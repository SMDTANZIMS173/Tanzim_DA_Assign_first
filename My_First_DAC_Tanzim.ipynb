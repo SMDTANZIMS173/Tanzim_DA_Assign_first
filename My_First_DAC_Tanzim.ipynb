{
 "cells": [
  {
   "cell_type": "markdown",
   "metadata": {},
   "source": [
    "#1 Explain the key features of Python that make it a popular choice for programming"
   ]
  },
  {
   "cell_type": "markdown",
   "metadata": {},
   "source": [
    "Python is a versatile programming language which is made with extensible features which makes it popular amoung programmer to choose all over the world.\n",
    "Some of the Key Features are as follows:\n",
    "1. Simple Syntax\n",
    "2. Readability and maintainability\n",
    "3. Wide Community and Libraries\n",
    "4. Automation and Scripting\n",
    "5. Strong Support for Data Science and AI\n",
    "6. Interpreted Language\n",
    "7. Versatile and Cross-Platform\n",
    "8. Extensibility and Flexibility\n",
    "9. Easy to Understand\n",
    "10. Less lines of code when compared to other programming languages\n"
   ]
  },
  {
   "cell_type": "markdown",
   "metadata": {},
   "source": [
    "2. Describe the role of predefined keywords in Python and provide examples of how they are used in a\n",
    "program"
   ]
  },
  {
   "cell_type": "markdown",
   "metadata": {},
   "source": [
    "Role of Predefined keywords:\n",
    "Predefined keywords in Python are reserved words that have special meanings and are part of the core language syntax. \n",
    "* They are essential for the structure of Python programs, helping to define control flow, data structure, logic, and more.\n",
    "* Because of their special status, these keywords cannot be used as identifiers (variable names, function names, etc.).\n",
    "* Totally there are 32 keywords in python language.\n",
    "* They make python code more readable and maintanable.\n",
    "* Some of the examples of keywords\n",
    "False, None, True, and, as, assert, async, await, break, class, continue, def, del, elif, else, except, finally, for, from, global, if, import, in, is, lambda, nonlocal, not, or, pass, raise, return, try, while, with, yield\n"
   ]
  },
  {
   "cell_type": "markdown",
   "metadata": {},
   "source": [
    "A simple program which makes sense of using keywords"
   ]
  },
  {
   "cell_type": "code",
   "execution_count": 1,
   "metadata": {},
   "outputs": [
    {
     "name": "stdout",
     "output_type": "stream",
     "text": [
      "x is greater than 5\n"
     ]
    }
   ],
   "source": [
    "x = 10\n",
    "if x > 5:\n",
    "    print(\"x is greater than 5\")\n",
    "elif x == 5:\n",
    "    print(\"x is 5\")\n",
    "else:\n",
    "    print(\"x is less than 5\")"
   ]
  },
  {
   "cell_type": "markdown",
   "metadata": {},
   "source": [
    "In the above program we have used if,elif,else python reserved keywords."
   ]
  },
  {
   "cell_type": "markdown",
   "metadata": {},
   "source": [
    "3. Compare and contrast mutable and immutable objects in Python with examples."
   ]
  },
  {
   "cell_type": "markdown",
   "metadata": {},
   "source": [
    "Mutable objects:\n",
    "\n",
    "Mutable objects, like lists, can be changed after creation. we can modify the contents of a list without creating a new one.\n",
    "for example"
   ]
  },
  {
   "cell_type": "code",
   "execution_count": null,
   "metadata": {},
   "outputs": [
    {
     "name": "stdout",
     "output_type": "stream",
     "text": [
      "[100, 2, 3]\n"
     ]
    }
   ],
   "source": [
    "my_list = [1, 2, 3]\n",
    "my_list[0] = 100 \n",
    "print(my_list)  # as the list is mutable it means that the above [1,2,3] list is modified at 0th place and placed 100 at 0th position without creating new list and the operations can be done on existing list only."
   ]
  },
  {
   "cell_type": "markdown",
   "metadata": {},
   "source": [
    "Immutable Objects:\n",
    "Immutable objects, like integers and strings, cannot be changed after they’re created. If we try to \"modify\" them, Python creates a new object instead.\n",
    "For example"
   ]
  },
  {
   "cell_type": "code",
   "execution_count": null,
   "metadata": {},
   "outputs": [
    {
     "name": "stdout",
     "output_type": "stream",
     "text": [
      "hello world\n",
      "hello\n"
     ]
    }
   ],
   "source": [
    "my_string = \"hello\"\n",
    "org=my_string\n",
    "my_string = my_string + \" world\"  # Creates a new string object\n",
    "print(my_string) #as we can see if we try to modify the my_string then it has created new object for the string and pointing to \"hello world\" by my_string\n",
    "print(org) # it is still pointing to original one although we changed it hence strings, integers are immutable in nature"
   ]
  },
  {
   "cell_type": "markdown",
   "metadata": {},
   "source": [
    "4. Discuss the different types of operators in Python and provide examples of how they are used"
   ]
  },
  {
   "cell_type": "markdown",
   "metadata": {},
   "source": [
    "In Python, operators are special symbols used to perform operations on variables and values.\n",
    "1. Arithmetic Operators\n",
    "Arithmetic operators are used to perform basic mathematical operations like addition, subtraction, multiplication, etc."
   ]
  },
  {
   "cell_type": "code",
   "execution_count": 7,
   "metadata": {},
   "outputs": [
    {
     "name": "stdout",
     "output_type": "stream",
     "text": [
      "15\n",
      "5\n",
      "50\n",
      "2.0\n",
      "2\n",
      "0\n",
      "100000\n"
     ]
    }
   ],
   "source": [
    "a = 10\n",
    "b = 5\n",
    "\n",
    "# Addition\n",
    "print(a + b)  \n",
    "\n",
    "# Subtraction\n",
    "print(a - b) \n",
    "\n",
    "# Multiplication\n",
    "print(a * b)  \n",
    "\n",
    "# Division (returns a float)\n",
    "print(a / b) \n",
    "\n",
    "# Floor Division (returns an integer)\n",
    "print(a // b)  \n",
    "\n",
    "# Modulus (remainder)\n",
    "print(a % b)  \n",
    "\n",
    "# Exponentiation (power)\n",
    "print(a ** b) \n"
   ]
  },
  {
   "cell_type": "markdown",
   "metadata": {},
   "source": [
    "2. Comparison Operators\n",
    "Comparison operators are used to compare two values. They return a boolean value (True or False)."
   ]
  },
  {
   "cell_type": "code",
   "execution_count": 8,
   "metadata": {},
   "outputs": [
    {
     "name": "stdout",
     "output_type": "stream",
     "text": [
      "False\n",
      "True\n",
      "True\n",
      "False\n",
      "True\n",
      "False\n"
     ]
    }
   ],
   "source": [
    "a = 10\n",
    "b = 5\n",
    "\n",
    "# Equal to\n",
    "print(a == b)  \n",
    "\n",
    "# Not equal to\n",
    "print(a != b)  \n",
    "\n",
    "# Greater than\n",
    "print(a > b)\n",
    "\n",
    "# Less than\n",
    "print(a < b) \n",
    "\n",
    "# Greater than or equal to\n",
    "print(a >= b)\n",
    "\n",
    "# Less than or equal to\n",
    "print(a <= b)  \n"
   ]
  },
  {
   "cell_type": "markdown",
   "metadata": {},
   "source": [
    "3. Logical Operators\n",
    "Logical operators are used to combine conditional statements and return a boolean result."
   ]
  },
  {
   "cell_type": "code",
   "execution_count": 9,
   "metadata": {},
   "outputs": [
    {
     "name": "stdout",
     "output_type": "stream",
     "text": [
      "False\n",
      "True\n",
      "False\n"
     ]
    }
   ],
   "source": [
    "x = True\n",
    "y = False\n",
    "\n",
    "# AND operator\n",
    "print(x and y) \n",
    "\n",
    "# OR operator\n",
    "print(x or y) \n",
    "\n",
    "# NOT operator\n",
    "print(not x) \n"
   ]
  },
  {
   "cell_type": "markdown",
   "metadata": {},
   "source": [
    "4. Assignment Operators\n",
    "Assignment operators are used to assign values to variables."
   ]
  },
  {
   "cell_type": "code",
   "execution_count": 19,
   "metadata": {},
   "outputs": [
    {
     "name": "stdout",
     "output_type": "stream",
     "text": [
      "13\n",
      "10\n",
      "20\n",
      "5.0\n",
      "2.0\n"
     ]
    }
   ],
   "source": [
    "a = 10  # Assign 10 to a\n",
    "\n",
    "# Addition assignment, \n",
    "a+=3\n",
    "print(a)\n",
    "\n",
    "# Subtraction assignment\n",
    "a -= 3  # Equivalent to a = a - 3\n",
    "print(a)\n",
    "\n",
    "# Multiplication assignment\n",
    "a *= 2  # Equivalent to a = a * 2\n",
    "print(a)\n",
    "\n",
    "# Division assignment\n",
    "a /= 4  # Equivalent to a = a / 4\n",
    "print(a)\n",
    "\n",
    "# Modulus assignment\n",
    "a %= 3  # Equivalent to a = a % 3\n",
    "print(a)\n"
   ]
  },
  {
   "cell_type": "markdown",
   "metadata": {},
   "source": [
    "5. Bitwise Operators\n",
    "Bitwise operators are used to perform bit-level operations on integers."
   ]
  },
  {
   "cell_type": "code",
   "execution_count": 20,
   "metadata": {},
   "outputs": [
    {
     "name": "stdout",
     "output_type": "stream",
     "text": [
      "1\n",
      "7\n",
      "6\n",
      "-6\n",
      "10\n",
      "2\n"
     ]
    }
   ],
   "source": [
    "a = 5  # In binary: 0101\n",
    "b = 3  # In binary: 0011\n",
    "\n",
    "# AND operator\n",
    "print(a & b) \n",
    "\n",
    "# OR operator\n",
    "print(a | b) \n",
    "\n",
    "# XOR operator\n",
    "print(a ^ b)  \n",
    "\n",
    "# NOT operator (bitwise complement)\n",
    "print(~a)  \n",
    "\n",
    "# Left shift operator\n",
    "print(a << 1)  \n",
    "# Right shift operator\n",
    "print(a >> 1)  \n"
   ]
  },
  {
   "cell_type": "markdown",
   "metadata": {},
   "source": [
    "6. Identity Operators\n",
    "Identity operators are used to compare the memory locations of two objects."
   ]
  },
  {
   "cell_type": "code",
   "execution_count": 21,
   "metadata": {},
   "outputs": [
    {
     "name": "stdout",
     "output_type": "stream",
     "text": [
      "False\n",
      "True\n"
     ]
    }
   ],
   "source": [
    "a = [1, 2, 3]\n",
    "b = [1, 2, 3]\n",
    "\n",
    "# is operator (checks if both are the same object)\n",
    "print(a is b)  \n",
    "\n",
    "# is not operator (checks if both are not the same object)\n",
    "print(a is not b)  \n"
   ]
  },
  {
   "cell_type": "markdown",
   "metadata": {},
   "source": [
    "7. Membership Operators\n",
    "Membership operators are used to test if a value is found in a sequence (such as a list, string)."
   ]
  },
  {
   "cell_type": "code",
   "execution_count": 22,
   "metadata": {},
   "outputs": [
    {
     "name": "stdout",
     "output_type": "stream",
     "text": [
      "True\n",
      "True\n"
     ]
    }
   ],
   "source": [
    "a = [1, 2, 3, 4, 5]\n",
    "\n",
    "# in operator (checks if an element is in the sequence)\n",
    "print(3 in a) \n",
    "\n",
    "# not in operator (checks if an element is not in the sequence)\n",
    "print(6 not in a)  \n"
   ]
  },
  {
   "cell_type": "markdown",
   "metadata": {},
   "source": [
    "8. Conditional (Ternary) Operator\n",
    "The conditional operator is a shorthand for an if-else statement."
   ]
  },
  {
   "cell_type": "code",
   "execution_count": 25,
   "metadata": {},
   "outputs": [
    {
     "name": "stdout",
     "output_type": "stream",
     "text": [
      "a is greater\n"
     ]
    }
   ],
   "source": [
    "a=6\n",
    "b=3\n",
    "z= print(\"a is greater\") if (a>b) else print(\"b is greater\")"
   ]
  },
  {
   "cell_type": "markdown",
   "metadata": {},
   "source": [
    "5. Explain the concept of type casting in Python with examples"
   ]
  },
  {
   "cell_type": "markdown",
   "metadata": {},
   "source": [
    "Type Casting in Python:\n",
    "Type casting in Python refers to converting one data type into another.\n",
    "This is useful when you need to perform operations that require matching data types, or when you're working with values in different formats. In Python, there are two types of type casting:\n",
    "\n",
    "* Implicit Type Casting (Automatic Type Conversion)\n",
    "* Explicit Type Casting (Manual Type Conversion)"
   ]
  },
  {
   "cell_type": "markdown",
   "metadata": {},
   "source": [
    "1. Implicit Type Casting (Automatic Type Conversion)\n",
    "Python automatically converts one data type to another when required, without the need for the programmer to do it manually. This usually happens when converting from a lower data type to a higher one (e.g., integer to float).\n",
    "\n",
    "Example:"
   ]
  },
  {
   "cell_type": "code",
   "execution_count": 26,
   "metadata": {},
   "outputs": [
    {
     "name": "stdout",
     "output_type": "stream",
     "text": [
      "7.5\n"
     ]
    }
   ],
   "source": [
    "a = 5    # Integer\n",
    "b = 2.5  # Float\n",
    "\n",
    "# Python automatically converts integer 'a' to float before performing the addition\n",
    "result = a + b  \n",
    "print(result)  \n"
   ]
  },
  {
   "cell_type": "markdown",
   "metadata": {},
   "source": [
    "2. Explicit Type Casting (Manual Type Conversion)\n",
    "Explicit type casting occurs when the programmer manually converts one data type to another using Python's built-in functions like int(), float(), str(), etc.\n",
    "for Example:"
   ]
  },
  {
   "cell_type": "code",
   "execution_count": 30,
   "metadata": {},
   "outputs": [
    {
     "name": "stdout",
     "output_type": "stream",
     "text": [
      "10\n",
      "15\n",
      "20.0\n"
     ]
    },
    {
     "data": {
      "text/plain": [
       "float"
      ]
     },
     "execution_count": 30,
     "metadata": {},
     "output_type": "execute_result"
    }
   ],
   "source": [
    "#Converting Str to integer using int()\n",
    "str_num = \"10\"\n",
    "num = int(str_num)  # Convert string to integer\n",
    "print(num) \n",
    "type(num) \n",
    "\n",
    "#Converting Integer to str using int()\n",
    "num1 = 15\n",
    "str_num1 = str(num1)  # Convert integer to string\n",
    "print(str_num1)  \n",
    "type(str_num1)\n",
    "\n",
    "#Converting Int to float using int()\n",
    "int_num2 = 20\n",
    "float_num = float(int_num2)  # Convert integer to float\n",
    "print(float_num)  \n",
    "type(float_num)\n",
    "\n",
    "\n"
   ]
  },
  {
   "cell_type": "markdown",
   "metadata": {},
   "source": [
    "\n",
    "6. How do conditional statements work in Python? Illustrate with examples"
   ]
  },
  {
   "cell_type": "markdown",
   "metadata": {},
   "source": [
    "Conditional Statements in Python\n",
    "Conditional statements in Python allow you to execute certain blocks of code based on whether a condition is True or False. They are essential for making decisions in a program. Python provides three main types of conditional statements:\n",
    "\n",
    "* if statement\n",
    "* if-else statement\n",
    "* if-elif-else statement\n"
   ]
  },
  {
   "cell_type": "markdown",
   "metadata": {},
   "source": [
    "1. The if Statement\n",
    "The if statement is used to test a condition. If the condition is True, the block of code inside the if statement is executed."
   ]
  },
  {
   "cell_type": "code",
   "execution_count": 32,
   "metadata": {},
   "outputs": [
    {
     "name": "stdout",
     "output_type": "stream",
     "text": [
      "10 is greater than 5\n"
     ]
    }
   ],
   "source": [
    "x = 10\n",
    "if x > 5:\n",
    "    print(f\"{x} is greater than 5\")  \n"
   ]
  },
  {
   "cell_type": "markdown",
   "metadata": {},
   "source": [
    "2. The if-else Statement\n",
    "The if-else statement allows you to specify a block of code to execute if the condition is True, and another block of code to execute if the condition is False."
   ]
  },
  {
   "cell_type": "code",
   "execution_count": 33,
   "metadata": {},
   "outputs": [
    {
     "name": "stdout",
     "output_type": "stream",
     "text": [
      "3 is not greater than 5\n"
     ]
    }
   ],
   "source": [
    "x = 3\n",
    "if x > 5:\n",
    "    print(f\"{x} is greater than 5\")\n",
    "else:\n",
    "    print(f\"{x} is not greater than 5\") \n"
   ]
  },
  {
   "cell_type": "markdown",
   "metadata": {},
   "source": [
    "3. The if-elif-else Statement\n",
    "The if-elif-else statement is used when you have multiple conditions to check. The elif (short for \"else if\") allows you to check additional conditions if the previous ones are False. The else block is executed if none of the conditions are True."
   ]
  },
  {
   "cell_type": "code",
   "execution_count": 34,
   "metadata": {},
   "outputs": [
    {
     "name": "stdout",
     "output_type": "stream",
     "text": [
      "8 is equal to 8\n"
     ]
    }
   ],
   "source": [
    "x = 8\n",
    "if x > 10:\n",
    "    print(f\"{x} is greater than 10\")\n",
    "elif x == 8:\n",
    "    print(f\"{x} is equal to 8\") \n",
    "else:\n",
    "    print(f\"{x} is less than or equal to 7\")\n"
   ]
  },
  {
   "cell_type": "markdown",
   "metadata": {},
   "source": [
    "Nested Conditional Statements\n",
    "We can also nest conditional statements inside one another."
   ]
  },
  {
   "cell_type": "code",
   "execution_count": 35,
   "metadata": {},
   "outputs": [
    {
     "name": "stdout",
     "output_type": "stream",
     "text": [
      "x is between 10 and 20\n"
     ]
    }
   ],
   "source": [
    "x = 15\n",
    "if x > 10:\n",
    "    if x < 20:\n",
    "        print(\"x is between 10 and 20\")  \n"
   ]
  },
  {
   "cell_type": "markdown",
   "metadata": {},
   "source": [
    "7. Describe the different types of loops in Python and their use cases with examples"
   ]
  },
  {
   "cell_type": "markdown",
   "metadata": {},
   "source": [
    "Loops in Python\n",
    "Loops are used to execute a block of code repeatedly as long as a specified condition is True. Python supports two main types of loops:\n",
    "\n",
    "* for loop\n",
    "* while loop"
   ]
  },
  {
   "cell_type": "markdown",
   "metadata": {},
   "source": [
    "1. for Loop\n",
    "The for loop is used to iterate over a sequence (like a list, string, tuple, or range). It is commonly used when you know the number of iterations in advance.\n",
    "\n",
    "For Example"
   ]
  },
  {
   "cell_type": "code",
   "execution_count": 39,
   "metadata": {},
   "outputs": [
    {
     "name": "stdout",
     "output_type": "stream",
     "text": [
      "apple\n",
      "banana\n",
      "cherry\n",
      "0 1 2 3 4 5 6 7 8 9 "
     ]
    }
   ],
   "source": [
    "fruits = [\"apple\", \"banana\", \"cherry\"]\n",
    "for fruit in fruits:\n",
    "    print(fruit)\n",
    "\n",
    "# with range\n",
    "for i in range(10):\n",
    "    print(i,end=\" \")\n"
   ]
  },
  {
   "cell_type": "markdown",
   "metadata": {},
   "source": [
    "2. while Loop\n",
    "The while loop repeats a block of code as long as the condition specified evaluates to True. This is useful when the number of iterations is not known beforehand and depends on a dynamic condition.\n",
    "\n",
    "For Example"
   ]
  },
  {
   "cell_type": "code",
   "execution_count": 41,
   "metadata": {},
   "outputs": [
    {
     "name": "stdout",
     "output_type": "stream",
     "text": [
      "0 1 2 3 4 "
     ]
    }
   ],
   "source": [
    "x = 0\n",
    "while x < 5:\n",
    "    print(x,end=\" \")\n",
    "    x += 1\n"
   ]
  },
  {
   "cell_type": "markdown",
   "metadata": {},
   "source": [
    "3. Loop Control Statements\n",
    "Python also provides control statements that can modify the behavior of loops:\n",
    "\n",
    "* Break Statement\n",
    "The break statement is used to exit the loop prematurely, regardless of whether the loop condition is still True.\n",
    "\n",
    "For Example:"
   ]
  },
  {
   "cell_type": "code",
   "execution_count": null,
   "metadata": {},
   "outputs": [
    {
     "name": "stdout",
     "output_type": "stream",
     "text": [
      "0,1,2,3,4,"
     ]
    }
   ],
   "source": [
    "for i in range(10):\n",
    "    if i == 5:\n",
    "        break  # terminates the iteration and gives output no matter if other conditions satisfies for any particular ietration\n",
    "    print(i,end=\",\")\n"
   ]
  },
  {
   "cell_type": "markdown",
   "metadata": {},
   "source": [
    "* continue Statement\n",
    "The continue statement skips the current iteration and moves to the next iteration of the loop."
   ]
  },
  {
   "cell_type": "code",
   "execution_count": null,
   "metadata": {},
   "outputs": [
    {
     "name": "stdout",
     "output_type": "stream",
     "text": [
      "0,1,2,4,"
     ]
    }
   ],
   "source": [
    "# For Example\n",
    "for i in range(5):\n",
    "    if i == 3:  # skips iteration as soon continue encounters for that particular condition is true for that iteration\n",
    "        continue\n",
    "    print(i,end=\",\")\n",
    "\n"
   ]
  },
  {
   "cell_type": "code",
   "execution_count": null,
   "metadata": {},
   "outputs": [],
   "source": []
  }
 ],
 "metadata": {
  "kernelspec": {
   "display_name": "base",
   "language": "python",
   "name": "python3"
  },
  "language_info": {
   "codemirror_mode": {
    "name": "ipython",
    "version": 3
   },
   "file_extension": ".py",
   "mimetype": "text/x-python",
   "name": "python",
   "nbconvert_exporter": "python",
   "pygments_lexer": "ipython3",
   "version": "3.12.7"
  }
 },
 "nbformat": 4,
 "nbformat_minor": 2
}
